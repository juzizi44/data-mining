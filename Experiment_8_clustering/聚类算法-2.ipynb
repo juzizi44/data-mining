{
 "cells": [
  {
   "attachments": {},
   "cell_type": "markdown",
   "metadata": {},
   "source": [
    "# 经济和健康得分，来预测幸福类别"
   ]
  },
  {
   "attachments": {},
   "cell_type": "markdown",
   "metadata": {},
   "source": [
    "# 记录评价指标的表格"
   ]
  },
  {
   "cell_type": "code",
   "execution_count": 1,
   "metadata": {},
   "outputs": [],
   "source": [
    "import pandas as pd\n",
    "# 创建列名和行名\n",
    "columns = ['sklearn_kmeans', 'my_kmeans']\n",
    "index = ['nmi', 'ri', 'purity_score']\n",
    "\n",
    "# 创建空的DataFrame\n",
    "evaluation_metrics = pd.DataFrame(columns=columns, index=index)"
   ]
  },
  {
   "attachments": {},
   "cell_type": "markdown",
   "metadata": {},
   "source": [
    "# 各国幸福指数数据集预处理"
   ]
  },
  {
   "cell_type": "code",
   "execution_count": 2,
   "metadata": {},
   "outputs": [
    {
     "data": {
      "text/html": [
       "<div>\n",
       "<style scoped>\n",
       "    .dataframe tbody tr th:only-of-type {\n",
       "        vertical-align: middle;\n",
       "    }\n",
       "\n",
       "    .dataframe tbody tr th {\n",
       "        vertical-align: top;\n",
       "    }\n",
       "\n",
       "    .dataframe thead th {\n",
       "        text-align: right;\n",
       "    }\n",
       "</style>\n",
       "<table border=\"1\" class=\"dataframe\">\n",
       "  <thead>\n",
       "    <tr style=\"text-align: right;\">\n",
       "      <th></th>\n",
       "      <th>Economy (GDP per Capita)</th>\n",
       "      <th>Health (Life Expectancy)</th>\n",
       "      <th>Category</th>\n",
       "    </tr>\n",
       "  </thead>\n",
       "  <tbody>\n",
       "    <tr>\n",
       "      <th>0</th>\n",
       "      <td>1.44178</td>\n",
       "      <td>0.79504</td>\n",
       "      <td>0</td>\n",
       "    </tr>\n",
       "    <tr>\n",
       "      <th>1</th>\n",
       "      <td>1.52733</td>\n",
       "      <td>0.86303</td>\n",
       "      <td>0</td>\n",
       "    </tr>\n",
       "    <tr>\n",
       "      <th>2</th>\n",
       "      <td>1.42666</td>\n",
       "      <td>0.86733</td>\n",
       "      <td>0</td>\n",
       "    </tr>\n",
       "    <tr>\n",
       "      <th>3</th>\n",
       "      <td>1.57744</td>\n",
       "      <td>0.79579</td>\n",
       "      <td>0</td>\n",
       "    </tr>\n",
       "    <tr>\n",
       "      <th>4</th>\n",
       "      <td>1.40598</td>\n",
       "      <td>0.81091</td>\n",
       "      <td>0</td>\n",
       "    </tr>\n",
       "    <tr>\n",
       "      <th>...</th>\n",
       "      <td>...</td>\n",
       "      <td>...</td>\n",
       "      <td>...</td>\n",
       "    </tr>\n",
       "    <tr>\n",
       "      <th>152</th>\n",
       "      <td>0.39499</td>\n",
       "      <td>0.21028</td>\n",
       "      <td>2</td>\n",
       "    </tr>\n",
       "    <tr>\n",
       "      <th>153</th>\n",
       "      <td>0.38227</td>\n",
       "      <td>0.17344</td>\n",
       "      <td>2</td>\n",
       "    </tr>\n",
       "    <tr>\n",
       "      <th>154</th>\n",
       "      <td>0.28123</td>\n",
       "      <td>0.24811</td>\n",
       "      <td>2</td>\n",
       "    </tr>\n",
       "    <tr>\n",
       "      <th>155</th>\n",
       "      <td>0.74719</td>\n",
       "      <td>0.62994</td>\n",
       "      <td>2</td>\n",
       "    </tr>\n",
       "    <tr>\n",
       "      <th>156</th>\n",
       "      <td>0.06831</td>\n",
       "      <td>0.15747</td>\n",
       "      <td>2</td>\n",
       "    </tr>\n",
       "  </tbody>\n",
       "</table>\n",
       "<p>157 rows × 3 columns</p>\n",
       "</div>"
      ],
      "text/plain": [
       "     Economy (GDP per Capita)  Health (Life Expectancy)  Category\n",
       "0                     1.44178                   0.79504         0\n",
       "1                     1.52733                   0.86303         0\n",
       "2                     1.42666                   0.86733         0\n",
       "3                     1.57744                   0.79579         0\n",
       "4                     1.40598                   0.81091         0\n",
       "..                        ...                       ...       ...\n",
       "152                   0.39499                   0.21028         2\n",
       "153                   0.38227                   0.17344         2\n",
       "154                   0.28123                   0.24811         2\n",
       "155                   0.74719                   0.62994         2\n",
       "156                   0.06831                   0.15747         2\n",
       "\n",
       "[157 rows x 3 columns]"
      ]
     },
     "execution_count": 2,
     "metadata": {},
     "output_type": "execute_result"
    }
   ],
   "source": [
    "import pandas as pd\n",
    "\n",
    "# 首先读取数据集\n",
    "data = pd.read_csv('2016_world_happiness.csv')\n",
    "        \n",
    "# 我自行为数据集添加了分类标签：按照幸福排名，我分为了三个类别，高，中，低。并且将标签添加到了数据集中 。        \n",
    "            \n",
    "# 计算分位数\n",
    "high_quantile = data['Happiness Rank'].quantile(1/3)\n",
    "mid_quantile = data['Happiness Rank'].quantile(2/3)\n",
    "\n",
    "# 添加新的类别标签\n",
    "data['Category'] = data['Happiness Rank'].apply(lambda x: 0 if x <= high_quantile else (1 if x <= mid_quantile else 2))\n",
    "\n",
    "# 选取经济和健康因素比较感兴趣，所以我选择了这两个属性，来对数据集进行预测。\n",
    "# 也就是说，使用经济和健康得分，来预测幸福类别\n",
    "data=data.iloc[:,[6,8,-1]]\n",
    "data\n"
   ]
  },
  {
   "attachments": {},
   "cell_type": "markdown",
   "metadata": {},
   "source": [
    "# 调用的sklearn kmeans"
   ]
  },
  {
   "cell_type": "code",
   "execution_count": 3,
   "metadata": {},
   "outputs": [
    {
     "name": "stderr",
     "output_type": "stream",
     "text": [
      "No artists with labels found to put in legend.  Note that artists whose label start with an underscore are ignored when legend() is called with no argument.\n"
     ]
    },
    {
     "name": "stdout",
     "output_type": "stream",
     "text": [
      "nmi: 0.207\n",
      "ri: 0.085\n",
      "purity_score: 0.594\n"
     ]
    },
    {
     "data": {
      "image/png": "[encoded data removed]",
      "text/plain": [
       "<Figure size 576x432 with 1 Axes>"
      ]
     },
     "metadata": {
      "needs_background": "light"
     },
     "output_type": "display_data"
    },
    {
     "data": {
      "image/png": "[encoded data removed]",
      "text/plain": [
       "<Figure size 432x288 with 1 Axes>"
      ]
     },
     "metadata": {
      "needs_background": "light"
     },
     "output_type": "display_data"
    },
    {
     "data": {
      "image/png": "[encoded data removed]",
      "text/plain": [
       "<Figure size 432x288 with 1 Axes>"
      ]
     },
     "metadata": {
      "needs_background": "light"
     },
     "output_type": "display_data"
    }
   ],
   "source": [
    "\n",
    "from sklearn.cluster import KMeans\n",
    "from sklearn.model_selection import train_test_split\n",
    "from sklearn import metrics\n",
    "import matplotlib.pyplot as plt\n",
    "\n",
    "#==============================================数据集划分================================================\n",
    "# 训练集和测试集划分\n",
    "X = data.iloc[:,:-1]\n",
    "y = data.iloc[:, -1]\n",
    "X_train, X_test, y_train, y_test = train_test_split(X, y, test_size=0.2, random_state=5)\n",
    "\n",
    "#==============================================模型训练================================================\n",
    "\n",
    "# 创建KMeans模型并进行训练\n",
    "kmeans = KMeans(n_clusters=3, random_state=42)\n",
    "kmeans.fit(X_train)\n",
    "\n",
    "# 预测测试集数据的聚类结果\n",
    "labels = kmeans.predict(X_test)\n",
    "\n",
    "#==============================================评估指标================================================\n",
    "\n",
    "# 计算NMI（标准化互信息）\n",
    "nmi = metrics.normalized_mutual_info_score(y_test, labels)\n",
    "\n",
    "# 计算RI（兰德指数）\n",
    "ri = metrics.adjusted_rand_score(y_test, labels)\n",
    "\n",
    "# 计算Purity（纯度）\n",
    "purity = metrics.cluster.contingency_matrix(y_test, labels)\n",
    "total_samples = sum(sum(purity))\n",
    "purity_score = sum(purity.max(axis=1)) / total_samples\n",
    "\n",
    "\n",
    "evaluation_metrics.loc['nmi', 'sklearn_kmeans'] = nmi\n",
    "evaluation_metrics.loc['ri', 'sklearn_kmeans'] = ri\n",
    "evaluation_metrics.loc['purity_score', 'sklearn_kmeans'] = purity_score\n",
    "\n",
    "# 打印评价指标\n",
    "print(f\"nmi: {nmi:.3f}\")\n",
    "print(f\"ri: {ri:.3f}\")\n",
    "print(f\"purity_score: {purity_score:.3f}\")\n",
    "\n",
    "#将评价指标可视化\n",
    "fig, ax = plt.subplots(figsize=(8,6))\n",
    "bars = ax.bar(['nmi', 'ri', 'purity_score',], [nmi, ri, purity_score,],\n",
    "              color=['#3399FF', '#FF6666', '#00CC99',])\n",
    "for bar in bars:\n",
    "    height = bar.get_height()\n",
    "    ax.annotate('{:.3f}'.format(height), xy=(bar.get_x() + bar.get_width() / 2, height),\n",
    "                xytext=(0, 3), textcoords=\"offset points\", ha='center', va='bottom', fontsize=12)\n",
    "plt.ylim(0, 1)\n",
    "plt.xlabel('Metrics', fontsize=14)\n",
    "plt.grid(axis='y', alpha=0.5)\n",
    "plt.legend().set_visible(False)\n",
    "plt.show()\n",
    "plt.close()\n",
    "\n",
    "#==============================================聚类情况展示================================================\n",
    "\n",
    "\n",
    "# 定义颜色映射\n",
    "cmap = plt.cm.get_cmap('viridis')\n",
    "# 添加标题和坐标轴标签\n",
    "plt.title('predict')\n",
    "plt.xlabel('economy')\n",
    "plt.ylabel('health')\n",
    "# 绘制散点图\n",
    "plt.scatter(X_test.iloc[:,0], X_test.iloc[:,1], c=labels, cmap=cmap, s=30)  # 绘制散点图\n",
    "plt.show()\n",
    "plt.close()\n",
    "\n",
    "\n",
    "\n",
    "# 定义颜色映射\n",
    "cmap = plt.cm.get_cmap('viridis')\n",
    "# 添加标题和坐标轴标签\n",
    "plt.title('real')\n",
    "plt.xlabel('economy')\n",
    "plt.ylabel('health')\n",
    "# 绘制散点图\n",
    "plt.scatter(X_test.iloc[:,0], X_test.iloc[:,1], c=y_test, cmap=cmap, s=30)  # 绘制散点图\n",
    "plt.show()\n",
    "plt.close()\n"
   ]
  },
  {
   "attachments": {},
   "cell_type": "markdown",
   "metadata": {},
   "source": [
    "# 自己实现的kmeans"
   ]
  },
  {
   "cell_type": "code",
   "execution_count": 4,
   "metadata": {},
   "outputs": [
    {
     "name": "stderr",
     "output_type": "stream",
     "text": [
      "No artists with labels found to put in legend.  Note that artists whose label start with an underscore are ignored when legend() is called with no argument.\n"
     ]
    },
    {
     "name": "stdout",
     "output_type": "stream",
     "text": [
      "nmi: 0.207\n",
      "ri: 0.085\n",
      "purity_score: 0.594\n"
     ]
    },
    {
     "data": {
      "image/png": "[encoded data removed]",
      "text/plain": [
       "<Figure size 576x432 with 1 Axes>"
      ]
     },
     "metadata": {
      "needs_background": "light"
     },
     "output_type": "display_data"
    },
    {
     "data": {
      "image/png": "[encoded data removed]",
      "text/plain": [
       "<Figure size 432x288 with 1 Axes>"
      ]
     },
     "metadata": {
      "needs_background": "light"
     },
     "output_type": "display_data"
    },
    {
     "data": {
      "image/png": "[encoded data removed]",
      "text/plain": [
       "<Figure size 432x288 with 1 Axes>"
      ]
     },
     "metadata": {
      "needs_background": "light"
     },
     "output_type": "display_data"
    }
   ],
   "source": [
    "import numpy as np\n",
    "import matplotlib.pyplot as plt\n",
    "\n",
    "\n",
    "class KMeans:  # 定义KMeans类\n",
    "    def __init__(self, k=2, max_iter=500):  # 初始化方法，设置默认聚类数为2，最大迭代次数为500\n",
    "        self.k = k  # 将聚类数k保存到实例变量中\n",
    "        self.max_iter = max_iter  # 将最大迭代次数保存到实例变量中\n",
    "\n",
    "    def initialize_centroids(self, points):  # 定义初始化质心方法\n",
    "        centroids = points.copy()  # 将数据点进行复制\n",
    "        np.random.shuffle(centroids)  # 对数据点进行随机打乱\n",
    "        return centroids[:self.k]  # 返回前k个数据点作为初始质心\n",
    "\n",
    "    def closest_centroid(self, points, centroids):  # 定义计算最近质心方法\n",
    "        distances = np.sqrt(((points - centroids[:, np.newaxis])**2).sum(axis=2))  # 计算每个数据点到每个质心的距离\n",
    "        return np.argmin(distances, axis=0)  # 返回每个数据点最近的质心的索引\n",
    "\n",
    "    def move_centroids(self, points, closest, centroids):  # 定义移动质心方法\n",
    "        return np.array([points[closest==k].mean(axis=0) for k in range(centroids.shape[0])])  # 根据数据点最近的质心索引，计算每个簇新的质心位置\n",
    "\n",
    "    def fit(self, data):  # 定义拟合方法\n",
    "        self.centroids = self.initialize_centroids(data)  # 初始化质心\n",
    "        for i in range(0, self.max_iter):  # 循环迭代\n",
    "            new_centroids = self.move_centroids(data, self.closest_centroid(data, self.centroids), self.centroids)  # 计算新的质心\n",
    "            if np.array_equal(new_centroids, self.centroids):  # 如果新的质心和旧的质心相等\n",
    "                self.labels_ = self.closest_centroid(data, self.centroids)  # 保存每个数据点的簇标签\n",
    "                return  # 结束拟合\n",
    "            else:  # 如果新的质心和旧的质心不相等\n",
    "                self.centroids = new_centroids  # 更新质心\n",
    "\n",
    "    def predict(self, data):  # 定义预测方法\n",
    "        return self.closest_centroid(data, self.centroids)  # 返回预测的簇标签\n",
    "\n",
    "\n",
    "#==============================================数据集划分================================================\n",
    "# 训练集和测试集划分\n",
    "X = data.iloc[:,:-1].values\n",
    "y = data.iloc[:, -1].values\n",
    "X_train, X_test, y_train, y_test = train_test_split(X, y, test_size=0.2, random_state=5)\n",
    "\n",
    "#==============================================模型训练================================================\n",
    "\n",
    "# 创建KMeans模型并进行训练\n",
    "custom_kmeans = KMeans(k=3)\n",
    "kmeans.fit(X_train)\n",
    "\n",
    "# 预测测试集数据的聚类结果\n",
    "labels = kmeans.predict(X_test)\n",
    "\n",
    "#==============================================评估指标================================================\n",
    "\n",
    "# 计算NMI（标准化互信息）\n",
    "nmi = metrics.normalized_mutual_info_score(y_test, labels)\n",
    "\n",
    "# 计算RI（兰德指数）\n",
    "ri = metrics.adjusted_rand_score(y_test, labels)\n",
    "\n",
    "# 计算Purity（纯度）\n",
    "purity = metrics.cluster.contingency_matrix(y_test, labels)\n",
    "total_samples = sum(sum(purity))\n",
    "purity_score = sum(purity.max(axis=1)) / total_samples\n",
    "\n",
    "\n",
    "evaluation_metrics.loc['nmi', 'my_kmeans'] = nmi\n",
    "evaluation_metrics.loc['ri', 'my_kmeans'] = ri\n",
    "evaluation_metrics.loc['purity_score', 'my_kmeans'] = purity_score\n",
    "\n",
    "# 打印评价指标\n",
    "print(f\"nmi: {nmi:.3f}\")\n",
    "print(f\"ri: {ri:.3f}\")\n",
    "print(f\"purity_score: {purity_score:.3f}\")\n",
    "\n",
    "#将评价指标可视化\n",
    "fig, ax = plt.subplots(figsize=(8,6))\n",
    "bars = ax.bar(['nmi', 'ri', 'purity_score',], [nmi, ri, purity_score,],\n",
    "              color=['#3399FF', '#FF6666', '#00CC99',])\n",
    "for bar in bars:\n",
    "    height = bar.get_height()\n",
    "    ax.annotate('{:.3f}'.format(height), xy=(bar.get_x() + bar.get_width() / 2, height),\n",
    "                xytext=(0, 3), textcoords=\"offset points\", ha='center', va='bottom', fontsize=12)\n",
    "plt.ylim(0, 1)\n",
    "plt.xlabel('Metrics', fontsize=14)\n",
    "plt.grid(axis='y', alpha=0.5)\n",
    "plt.legend().set_visible(False)\n",
    "plt.show()\n",
    "plt.close()\n",
    "\n",
    "#==============================================聚类情况展示================================================\n",
    "\n",
    "\n",
    "# 定义颜色映射\n",
    "cmap = plt.cm.get_cmap('viridis')\n",
    "# 添加标题和坐标轴标签\n",
    "plt.title('predict')\n",
    "plt.xlabel('economy')\n",
    "plt.ylabel('health')\n",
    "# 绘制散点图\n",
    "plt.scatter(X_test[:,0], X_test[:,1], c=labels, cmap=cmap, s=30)  # 绘制散点图\n",
    "plt.show()\n",
    "plt.close()\n",
    "\n",
    "\n",
    "\n",
    "# 定义颜色映射\n",
    "cmap = plt.cm.get_cmap('viridis')\n",
    "# 添加标题和坐标轴标签\n",
    "plt.title('real')\n",
    "plt.xlabel('economy')\n",
    "plt.ylabel('health')\n",
    "# 绘制散点图\n",
    "plt.scatter(X_test[:,0], X_test[:,1], c=y_test, cmap=cmap, s=30)  # 绘制散点图\n",
    "plt.show()\n",
    "plt.close()"
   ]
  },
  {
   "cell_type": "code",
   "execution_count": 5,
   "metadata": {},
   "outputs": [
    {
     "data": {
      "text/html": [
       "<div>\n",
       "<style scoped>\n",
       "    .dataframe tbody tr th:only-of-type {\n",
       "        vertical-align: middle;\n",
       "    }\n",
       "\n",
       "    .dataframe tbody tr th {\n",
       "        vertical-align: top;\n",
       "    }\n",
       "\n",
       "    .dataframe thead th {\n",
       "        text-align: right;\n",
       "    }\n",
       "</style>\n",
       "<table border=\"1\" class=\"dataframe\">\n",
       "  <thead>\n",
       "    <tr style=\"text-align: right;\">\n",
       "      <th></th>\n",
       "      <th>sklearn_kmeans</th>\n",
       "      <th>my_kmeans</th>\n",
       "    </tr>\n",
       "  </thead>\n",
       "  <tbody>\n",
       "    <tr>\n",
       "      <th>nmi</th>\n",
       "      <td>0.207021</td>\n",
       "      <td>0.207021</td>\n",
       "    </tr>\n",
       "    <tr>\n",
       "      <th>ri</th>\n",
       "      <td>0.084952</td>\n",
       "      <td>0.084952</td>\n",
       "    </tr>\n",
       "    <tr>\n",
       "      <th>purity_score</th>\n",
       "      <td>0.59375</td>\n",
       "      <td>0.59375</td>\n",
       "    </tr>\n",
       "  </tbody>\n",
       "</table>\n",
       "</div>"
      ],
      "text/plain": [
       "             sklearn_kmeans my_kmeans\n",
       "nmi                0.207021  0.207021\n",
       "ri                 0.084952  0.084952\n",
       "purity_score        0.59375   0.59375"
      ]
     },
     "execution_count": 5,
     "metadata": {},
     "output_type": "execute_result"
    }
   ],
   "source": [
    "evaluation_metrics"
   ]
  },
  {
   "attachments": {},
   "cell_type": "markdown",
   "metadata": {},
   "source": [
    "# 分析"
   ]
  },
  {
   "attachments": {},
   "cell_type": "markdown",
   "metadata": {},
   "source": [
    "NMI（Normalized Mutual Information，标准化互信息），RI（Rand Index，兰德指数）和Purity（纯度）都是聚类效果的评价指标，这三者的含义如下：\n",
    "\n",
    "- NMI（Normalized Mutual Information，标准化互信息）：互信息是量化两个随机变量之间相关性的一种方法，如果两个变量完全独立，则互信息为0；如果两个变量完全相关，则互信息达到最大值。NMI是互信息的一种标准化形式，其值域在[0,1]之间。在聚类的上下文中，NMI用于衡量真实类别和聚类结果之间的一致性。NMI越接近1，说明聚类结果与真实类别的一致性越好。\n",
    "\n",
    "- RI（Rand Index，兰德指数）：兰德指数是衡量两个数据分割（或者说，聚类结果）一致性的指标。在聚类的上下文中，兰德指数可以用来衡量聚类结果和真实类别之间的一致性。兰德指数的取值在[0,1]之间，值越接近1，表示聚类结果与真实类别的一致性越好。\n",
    "\n",
    "- Purity（纯度）：纯度是一种直观的聚类效果评价指标，它表示的是每个聚类中最大类别的样本所占的比例。在每个聚类中，纯度越高，说明该聚类中包含的主要类别的样本占比越高。在所有聚类中，如果纯度的平均值越高，说明聚类效果越好。\n",
    "\n",
    "这三个指标都可以用于评价聚类结果的好坏，但是他们各有侧重点。NMI和RI更侧重于衡量聚类结果与真实类别之间的一致性，而纯度更侧重于衡量聚类内部的一致性。\n",
    "\n",
    "从结果来看，两种实现的聚类算法在所有三个性能指标上都达到了完全相同的结果。这说明自己实现的 KMeans 算法和 sklearn 的 KMeans 算法在此数据集上有一样的聚类效果。这是一个非常好的结果，说明自己实现的 KMeans 算法很可能是正确的。\n",
    "\n",
    "针对这三个指标的具体数值，可以看到：\n",
    "\n",
    "- NMI 的值为0.207，说明聚类结果和真实类别的一致性较低。一般来说，NMI 的值越接近于1，聚类结果和真实类别的一致性就越高。所以，从NMI的角度看，这两种 KMeans 算法的聚类效果都不是很理想。\n",
    "- RI 的值为0.0849，同样地，这个值也较低。RI 的值范围是0到1，值越接近1，聚类结果与真实类别的一致性越高。因此，从RI的角度看，这两种 KMeans 算法的聚类效果也不是很好。\n",
    "- 纯度的值为0.59375，这个值稍微好一些。纯度的取值也是在0到1之间，值越高，说明聚类的质量越好。这个纯度值说明，在每个聚类中，大部分的样本都属于同一类别，但仍有近40%的样本被错误地归到了其他类别。\n",
    "\n",
    "我们可以得出结论，经济因素和健康因素对幸福指数有一点点影响，但是影响非常有限。"
   ]
  },
  {
   "attachments": {},
   "cell_type": "markdown",
   "metadata": {},
   "source": [
    "# 优化\n",
    "\n",
    "使用 K-means++ 初始化方法，并添加收敛条件"
   ]
  },
  {
   "cell_type": "code",
   "execution_count": 6,
   "metadata": {},
   "outputs": [
    {
     "name": "stderr",
     "output_type": "stream",
     "text": [
      "No artists with labels found to put in legend.  Note that artists whose label start with an underscore are ignored when legend() is called with no argument.\n"
     ]
    },
    {
     "name": "stdout",
     "output_type": "stream",
     "text": [
      "nmi: 0.207\n",
      "ri: 0.085\n",
      "purity_score: 0.594\n"
     ]
    },
    {
     "data": {
      "image/png": "[encoded data removed]",
      "text/plain": [
       "<Figure size 576x432 with 1 Axes>"
      ]
     },
     "metadata": {
      "needs_background": "light"
     },
     "output_type": "display_data"
    },
    {
     "data": {
      "image/png": "[encoded data removed]",
      "text/plain": [
       "<Figure size 432x288 with 1 Axes>"
      ]
     },
     "metadata": {
      "needs_background": "light"
     },
     "output_type": "display_data"
    },
    {
     "data": {
      "image/png": "[encoded data removed]",
      "text/plain": [
       "<Figure size 432x288 with 1 Axes>"
      ]
     },
     "metadata": {
      "needs_background": "light"
     },
     "output_type": "display_data"
    }
   ],
   "source": [
    "import numpy as np\n",
    "from scipy.spatial.distance import cdist\n",
    "\n",
    "class KMeans:\n",
    "    def __init__(self, k=2, max_iter=500, tol=1e-4):  # 添加了一个tol参数，用于定义收敛的阈值\n",
    "        self.k = k\n",
    "        self.max_iter = max_iter\n",
    "        self.tol = tol  # 收敛条件，即质心变化的幅度小于某个阈值\n",
    "\n",
    "    def initialize_centroids(self, points):  # 使用K-means++初始化方法\n",
    "        centroids = points[np.random.choice(points.shape[0], 1, replace=False)]  # 随机选取一个数据点作为第一个质心\n",
    "        for _ in range(1, self.k):  # 循环 k-1 次\n",
    "            dist = np.min(cdist(points, centroids), axis=1)  # 计算每个点到已有质心的最短距离\n",
    "            probabilities = dist / np.sum(dist)  # 计算概率\n",
    "            # 选择下一个质心，选择的概率与点到已有质心的最短距离成正比\n",
    "            centroids = np.vstack((centroids, points[np.random.choice(points.shape[0], 1, p=probabilities, replace=False)]))  \n",
    "        return centroids\n",
    "\n",
    "    def closest_centroid(self, points, centroids):  # 未修改\n",
    "        return np.argmin(cdist(points, centroids), axis=1)\n",
    "\n",
    "    def move_centroids(self, points, closest, centroids):  # 未修改\n",
    "        return np.array([points[closest==k].mean(axis=0) for k in range(self.k)])\n",
    "\n",
    "    def fit(self, data):  # 添加了收敛条件\n",
    "        self.centroids = self.initialize_centroids(data)\n",
    "        for _ in range(self.max_iter):\n",
    "            closest = self.closest_centroid(data, self.centroids)\n",
    "            new_centroids = self.move_centroids(data, closest, self.centroids)\n",
    "            # 考虑收敛条件，如果新的质心和旧的质心的变化幅度小于阈值，则认为已经收敛\n",
    "            if np.allclose(new_centroids, self.centroids, atol=self.tol):  \n",
    "                self.labels_ = closest\n",
    "                return\n",
    "            self.centroids = new_centroids\n",
    "\n",
    "        self.labels_ = self.closest_centroid(data, self.centroids)  # 如果达到最大迭代次数还未收敛，则直接返回最后的结果\n",
    "\n",
    "    def predict(self, data):  # 未修改\n",
    "        return self.closest_centroid(data, self.centroids)\n",
    "\n",
    "    \n",
    "    \n",
    "#==============================================数据集划分================================================\n",
    "# 训练集和测试集划分\n",
    "X = data.iloc[:,:-1].values\n",
    "y = data.iloc[:, -1].values\n",
    "X_train, X_test, y_train, y_test = train_test_split(X, y, test_size=0.2, random_state=5)\n",
    "\n",
    "#==============================================模型训练================================================\n",
    "\n",
    "# 创建KMeans模型并进行训练\n",
    "custom_kmeans = KMeans(k=3)\n",
    "kmeans.fit(X_train)\n",
    "\n",
    "# 预测测试集数据的聚类结果\n",
    "labels = kmeans.predict(X_test)\n",
    "\n",
    "#==============================================评估指标================================================\n",
    "\n",
    "# 计算NMI（标准化互信息）\n",
    "nmi = metrics.normalized_mutual_info_score(y_test, labels)\n",
    "\n",
    "# 计算RI（兰德指数）\n",
    "ri = metrics.adjusted_rand_score(y_test, labels)\n",
    "\n",
    "# 计算Purity（纯度）\n",
    "purity = metrics.cluster.contingency_matrix(y_test, labels)\n",
    "total_samples = sum(sum(purity))\n",
    "purity_score = sum(purity.max(axis=1)) / total_samples\n",
    "\n",
    "\n",
    "# 打印评价指标\n",
    "print(f\"nmi: {nmi:.3f}\")\n",
    "print(f\"ri: {ri:.3f}\")\n",
    "print(f\"purity_score: {purity_score:.3f}\")\n",
    "\n",
    "#将评价指标可视化\n",
    "fig, ax = plt.subplots(figsize=(8,6))\n",
    "bars = ax.bar(['nmi', 'ri', 'purity_score',], [nmi, ri, purity_score,],\n",
    "              color=['#3399FF', '#FF6666', '#00CC99',])\n",
    "for bar in bars:\n",
    "    height = bar.get_height()\n",
    "    ax.annotate('{:.3f}'.format(height), xy=(bar.get_x() + bar.get_width() / 2, height),\n",
    "                xytext=(0, 3), textcoords=\"offset points\", ha='center', va='bottom', fontsize=12)\n",
    "plt.ylim(0, 1)\n",
    "plt.xlabel('Metrics', fontsize=14)\n",
    "plt.grid(axis='y', alpha=0.5)\n",
    "plt.legend().set_visible(False)\n",
    "plt.show()\n",
    "plt.close()\n",
    "\n",
    "#==============================================聚类情况展示================================================\n",
    "\n",
    "\n",
    "# 定义颜色映射\n",
    "cmap = plt.cm.get_cmap('viridis')\n",
    "# 添加标题和坐标轴标签\n",
    "plt.title('predict')\n",
    "plt.xlabel('economy')\n",
    "plt.ylabel('health')\n",
    "# 绘制散点图\n",
    "plt.scatter(X_test[:,0], X_test[:,1], c=labels, cmap=cmap, s=30)  # 绘制散点图\n",
    "plt.show()\n",
    "plt.close()\n",
    "\n",
    "\n",
    "\n",
    "# 定义颜色映射\n",
    "cmap = plt.cm.get_cmap('viridis')\n",
    "# 添加标题和坐标轴标签\n",
    "plt.title('real')\n",
    "plt.xlabel('economy')\n",
    "plt.ylabel('health')\n",
    "# 绘制散点图\n",
    "plt.scatter(X_test[:,0], X_test[:,1], c=y_test, cmap=cmap, s=30)  # 绘制散点图\n",
    "plt.show()\n",
    "plt.close()\n"
   ]
  },
  {
   "cell_type": "code",
   "execution_count": null,
   "metadata": {},
   "outputs": [],
   "source": []
  }
 ],
 "metadata": {
  "kernelspec": {
   "display_name": "Python 3",
   "language": "python",
   "name": "python3"
  },
  "language_info": {
   "codemirror_mode": {
    "name": "ipython",
    "version": 3
   },
   "file_extension": ".py",
   "mimetype": "text/x-python",
   "name": "python",
   "nbconvert_exporter": "python",
   "pygments_lexer": "ipython3",
   "version": "3.10.5"
  },
  "orig_nbformat": 4
 },
 "nbformat": 4,
 "nbformat_minor": 2
}
