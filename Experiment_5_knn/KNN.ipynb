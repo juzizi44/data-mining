{
 "cells": [
  {
   "attachments": {},
   "cell_type": "markdown",
   "metadata": {},
   "source": [
    "# 数据预处理\n",
    "- 检查数据集标题,跳过标题行，通关观察数据集发现，标题行有两行，分别在数据集开头和中间部分\n",
    "- 检查空值"
   ]
  },
  {
   "cell_type": "code",
   "execution_count": 354,
   "metadata": {},
   "outputs": [
    {
     "name": "stdout",
     "output_type": "stream",
     "text": [
      "Null columns: Index(['Classes  '], dtype='object')\n",
      "Null rows: Int64Index([165], dtype='int64')\n",
      "Null value found at (165, Classes  )\n"
     ]
    }
   ],
   "source": [
    "import pandas as pd\n",
    "import numpy as np\n",
    "data = pd.read_csv('Algerian_forest_fires_dataset_UPDATE.csv',skiprows=[0,124,125,126])\n",
    "\n",
    "#空值检查\n",
    "null_columns = data.columns[data.isnull().any()]\n",
    "null_rows = data.index[data.isnull().any(axis=1)]\n",
    "\n",
    "# 打印包含空值的行和列\n",
    "print(\"Null columns:\", null_columns)\n",
    "print(\"Null rows:\", null_rows)\n",
    "\n",
    "# 打印空值的坐标\n",
    "for col in null_columns:\n",
    "    for row in null_rows:\n",
    "        if pd.isna(data.loc[row, col]):\n",
    "            print(f\"Null value found at ({row}, {col})\")"
   ]
  },
  {
   "attachments": {},
   "cell_type": "markdown",
   "metadata": {},
   "source": [
    "- 检查到数据集中的行：14,07,2012,37,37,18,0.2,88.9,12.9,14.6 9,12.5,10.4,fire   有问题，14.6和9之间没有逗号会导致后续数据的读取错误，所以我直接手动修改数据集添加上逗号了"
   ]
  },
  {
   "cell_type": "code",
   "execution_count": 1,
   "metadata": {},
   "outputs": [],
   "source": [
    "import pandas as pd\n",
    "import numpy as np\n",
    "data = pd.read_csv('Algerian_forest_fires_dataset_fix.csv',skiprows=[0,124,125,126])\n",
    "\n",
    "#再次进行空值检查\n",
    "null_columns = data.columns[data.isnull().any()]\n",
    "null_rows = data.index[data.isnull().any(axis=1)]\n",
    "for col in null_columns:\n",
    "    for row in null_rows:\n",
    "        if pd.isna(data.loc[row, col]):\n",
    "            print(f\"Null value found at ({row}, {col})\")"
   ]
  },
  {
   "attachments": {},
   "cell_type": "markdown",
   "metadata": {},
   "source": [
    "- z-score标准化"
   ]
  },
  {
   "cell_type": "code",
   "execution_count": 2,
   "metadata": {},
   "outputs": [],
   "source": [
    "mean = np.mean(data.iloc[:, :-1], axis=0)\n",
    "std = np.std(data.iloc[:, :-1], axis=0)\n",
    "data.iloc[:, :-1] = (data.iloc[:, :-1] - mean) / std\n",
    "data.fillna(0, inplace=True)"
   ]
  },
  {
   "attachments": {},
   "cell_type": "markdown",
   "metadata": {},
   "source": [
    "- 标签进行编码"
   ]
  },
  {
   "cell_type": "code",
   "execution_count": 3,
   "metadata": {},
   "outputs": [],
   "source": [
    "# 使用 loc 和 str.contains 选择包含 \"not\" 的行，将该列的值替换成 0\n",
    "data.loc[data['Classes  '].str.contains('not'), 'Classes  '] = 0\n",
    "\n",
    "# 将该列中其他行的值替换成 1\n",
    "data.loc[data['Classes  '] != 0, 'Classes  '] = 1"
   ]
  },
  {
   "attachments": {},
   "cell_type": "markdown",
   "metadata": {},
   "source": [
    "# 构造KNN模型\n"
   ]
  },
  {
   "attachments": {},
   "cell_type": "markdown",
   "metadata": {},
   "source": [
    "- 构造KNN"
   ]
  },
  {
   "cell_type": "code",
   "execution_count": 419,
   "metadata": {},
   "outputs": [],
   "source": [
    "# 导入所需的库\n",
    "from sklearn.metrics.pairwise import euclidean_distances  # 导入计算两个点之间欧几里得距离的库\n",
    "from collections import Counter  # 导入计数器\n",
    "\n",
    "class KNN:\n",
    "    def __init__(self, k=3):\n",
    "        self.k = k  # 初始化，设定k值\n",
    "\n",
    "    def fit(self, X, y):\n",
    "        self.X_train = X  # 训练集特征\n",
    "        self.y_train = y  # 训练集标签\n",
    "\n",
    "    def distance(self, X1, X2):\n",
    "        distance = euclidean_distances(\n",
    "            X1.reshape(1, -1), X2.reshape(1, -1))[0][0]  # 计算两个样本点之间的欧几里得距离\n",
    "        return distance\n",
    "\n",
    "    def predict(self, X_test):\n",
    "        final_output = []  # 初始化最终输出\n",
    "        for i in range(len(X_test)):\n",
    "            d = []  # 存放每个测试样本与训练集中所有样本之间的距离和索引\n",
    "            votes = []  # 存放k个近邻样本的类别标签\n",
    "            for j in range(len(self.X_train)):\n",
    "                dist = self.distance(self.X_train[j], X_test[i])  # 计算测试样本与训练集样本之间的距离\n",
    "                d.append([dist, j])  # 将距离和索引存储在d中\n",
    "            d.sort()  # 按距离排序\n",
    "            d = d[0:self.k]  # 取前k个距离最小的样本\n",
    "            for dist, j in d:\n",
    "                votes.append(self.y_train[j])  # 取出k个近邻样本的标签\n",
    "            ans = Counter(votes).most_common(1)[0][0]  # 找到出现次数最多的标签\n",
    "            final_output.append(ans)  # 将预测结果添加到final_output列表中\n",
    "        return final_output\n",
    "\n",
    "    def score(self, X_test, y_test):\n",
    "        predictions = self.predict(X_test)  # 对测试集进行预测\n",
    "        return (predictions == y_test).sum() / len(y_test)  # 计算分类准确率\n"
   ]
  },
  {
   "attachments": {},
   "cell_type": "markdown",
   "metadata": {},
   "source": [
    "# 评估函数"
   ]
  },
  {
   "cell_type": "code",
   "execution_count": 420,
   "metadata": {},
   "outputs": [],
   "source": [
    "def evaluate(y_true, y_pred):\n",
    "    TP = 0  # 真正例\n",
    "    FP = 0  # 假正例\n",
    "    TN = 0  # 真反例\n",
    "    FN = 0  # 假反例\n",
    "    for i in range(len(y_true)):\n",
    "        if y_true[i] == y_pred[i] == 1:\n",
    "            TP += 1\n",
    "        elif y_true[i] == y_pred[i] == 0:\n",
    "            TN += 1\n",
    "        elif y_true[i] == 0 and y_pred[i] == 1:\n",
    "            FP += 1\n",
    "        else:\n",
    "            FN += 1\n",
    "    precision = TP / (TP + FP)  # 精确率\n",
    "    recall = TP / (TP + FN)  # 召回率\n",
    "    accuracy = (TP + TN) / (TP + TN + FP + FN)  # 准确率\n",
    "    f1score = 2 * precision * recall / (precision + recall)  # F1 score\n",
    "    return precision, recall, accuracy, f1score\n"
   ]
  },
  {
   "attachments": {},
   "cell_type": "markdown",
   "metadata": {},
   "source": [
    "# 训练+评估"
   ]
  },
  {
   "cell_type": "code",
   "execution_count": 421,
   "metadata": {},
   "outputs": [
    {
     "name": "stdout",
     "output_type": "stream",
     "text": [
      "{'accuracy': 0.8893707482993196, 'precision': 0.9060945083014049, 'recall': 0.8987305797650624, 'f1': 0.9019874593675432}\n",
      "{'accuracy': 0.8893707482993196, 'precision': 0.9060945083014049, 'recall': 0.8987305797650624, 'f1': 0.9019874593675432}\n",
      "{'accuracy': 0.9181122448979592, 'precision': 0.9176146092094367, 'recall': 0.9421940128836681, 'f1': 0.928975210660654}\n",
      "{'accuracy': 0.9098639455782314, 'precision': 0.9042466106690246, 'recall': 0.9413982569154984, 'f1': 0.9219017558205719}\n",
      "{'accuracy': 0.9139455782312925, 'precision': 0.9005717863893615, 'recall': 0.9559871163319439, 'f1': 0.9266198650709674}\n",
      "{'accuracy': 0.922108843537415, 'precision': 0.9001731601731603, 'recall': 0.9708222811671087, 'f1': 0.933637944696572}\n",
      "{'accuracy': 0.8852040816326531, 'precision': 0.856719587420366, 'recall': 0.9562334217506632, 'f1': 0.9033901071605989}\n",
      "{'accuracy': 0.9098639455782314, 'precision': 0.8868454367286404, 'recall': 0.9639257294429708, 'f1': 0.9235005421446101}\n",
      "{'accuracy': 0.8851190476190476, 'precision': 0.8569124423963134, 'recall': 0.9559871163319439, 'f1': 0.9033803086952353}\n",
      "{'accuracy': 0.9138605442176871, 'precision': 0.8872352216748768, 'recall': 0.9708222811671087, 'f1': 0.9268848155538902}\n",
      "{'accuracy': 0.8933673469387756, 'precision': 0.8632740081572117, 'recall': 0.9636794240242516, 'f1': 0.9105535448158399}\n",
      "{'accuracy': 0.9220238095238095, 'precision': 0.8944941395789561, 'recall': 0.9777188328912467, 'f1': 0.9339946948607636}\n",
      "{'accuracy': 0.8892857142857142, 'precision': 0.8629816017316017, 'recall': 0.9559871163319439, 'f1': 0.9069135857142567}\n",
      "{'accuracy': 0.9015306122448979, 'precision': 0.8702380952380953, 'recall': 0.9708222811671087, 'f1': 0.9176363951773789}\n",
      "{'accuracy': 0.8973639455782314, 'precision': 0.8742419888540578, 'recall': 0.9551913603637743, 'f1': 0.9126935222854289}\n",
      "{'accuracy': 0.9098639455782314, 'precision': 0.882296176046176, 'recall': 0.9700265251989391, 'f1': 0.9237930230401019}\n",
      "{'accuracy': 0.8974489795918368, 'precision': 0.8751622315592904, 'recall': 0.9551913603637743, 'f1': 0.9130584620052075}\n",
      "{'accuracy': 0.9180272108843537, 'precision': 0.8933928571428572, 'recall': 0.9705759757483896, 'f1': 0.9303477587253732}\n",
      "{'accuracy': 0.9014455782312926, 'precision': 0.8804488854057819, 'recall': 0.9551913603637743, 'f1': 0.915960309944231}\n",
      "{'accuracy': 0.9138605442176871, 'precision': 0.8926484674329501, 'recall': 0.9628836680560819, 'f1': 0.9261944333036849}\n",
      "{'accuracy': 0.9056972789115646, 'precision': 0.8823543497858914, 'recall': 0.9628836680560819, 'f1': 0.9203656537044136}\n",
      "{'accuracy': 0.9261904761904761, 'precision': 0.9011932751156889, 'recall': 0.9777188328912467, 'f1': 0.9376706941570978}\n",
      "{'accuracy': 0.9180272108843537, 'precision': 0.895597349061983, 'recall': 0.9708222811671089, 'f1': 0.9313060428849903}\n",
      "{'accuracy': 0.922108843537415, 'precision': 0.8994546850998464, 'recall': 0.9708222811671089, 'f1': 0.9337470426899482}\n",
      "{'accuracy': 0.9056122448979591, 'precision': 0.8862151468603081, 'recall': 0.9554376657824936, 'f1': 0.9193251294823274}\n",
      "{'accuracy': 0.922108843537415, 'precision': 0.9007654114105728, 'recall': 0.9708222811671089, 'f1': 0.9342797067010553}\n",
      "{'accuracy': 0.9137755102040817, 'precision': 0.8946522698246836, 'recall': 0.9639257294429708, 'f1': 0.9274379106725726}\n",
      "{'accuracy': 0.9220238095238095, 'precision': 0.8999108062456227, 'recall': 0.9708222811671089, 'f1': 0.9338740994207786}\n",
      "{'accuracy': 0.8931972789115645, 'precision': 0.8741734864134753, 'recall': 0.949090564607806, 'f1': 0.9098032878188185}\n",
      "{'accuracy': 0.9014455782312926, 'precision': 0.8820775656078771, 'recall': 0.9567828723001137, 'f1': 0.9173073729793089}\n",
      "{'accuracy': 0.8932823129251701, 'precision': 0.8746701582004697, 'recall': 0.949090564607806, 'f1': 0.909760203167988}\n",
      "{'accuracy': 0.9138605442176871, 'precision': 0.8984922621254657, 'recall': 0.9559871163319439, 'f1': 0.9259713345732523}\n",
      "{'accuracy': 0.8932823129251701, 'precision': 0.8762067681422521, 'recall': 0.949090564607806, 'f1': 0.9102880298738325}\n",
      "{'accuracy': 0.8973639455782314, 'precision': 0.8768116068519294, 'recall': 0.9559871163319439, 'f1': 0.9137852976333953}\n",
      "{'accuracy': 0.8932823129251701, 'precision': 0.8762067681422521, 'recall': 0.949090564607806, 'f1': 0.9102880298738325}\n",
      "{'accuracy': 0.8973639455782314, 'precision': 0.8813204045058883, 'recall': 0.949090564607806, 'f1': 0.9131436618146045}\n",
      "{'accuracy': 0.8851190476190476, 'precision': 0.868721198156682, 'recall': 0.9421940128836681, 'f1': 0.9032319870715039}\n",
      "{'accuracy': 0.8973639455782314, 'precision': 0.8830443749798589, 'recall': 0.949090564607806, 'f1': 0.913771339017519}\n",
      "{'accuracy': 0.89328231292517, 'precision': 0.8819080113434954, 'recall': 0.9421940128836681, 'f1': 0.9100695939091107}\n",
      "{'accuracy': 0.9015306122448979, 'precision': 0.8884207190658803, 'recall': 0.949090564607806, 'f1': 0.9169041710977195}\n",
      "{'accuracy': 0.8933673469387756, 'precision': 0.88044674859191, 'recall': 0.9421940128836681, 'f1': 0.9097191168456249}\n",
      "{'accuracy': 0.9015306122448979, 'precision': 0.88669674859191, 'recall': 0.949090564607806, 'f1': 0.9162764938948051}\n",
      "{'accuracy': 0.8933673469387756, 'precision': 0.8857870370370371, 'recall': 0.935051155740811, 'f1': 0.9088944409195319}\n",
      "{'accuracy': 0.9015306122448979, 'precision': 0.8932698051649665, 'recall': 0.9419477074649489, 'f1': 0.9159935692722578}\n",
      "{'accuracy': 0.9015306122448979, 'precision': 0.8932698051649665, 'recall': 0.9419477074649489, 'f1': 0.9159935692722578}\n",
      "{'accuracy': 0.9056122448979591, 'precision': 0.8987133535520633, 'recall': 0.9419477074649489, 'f1': 0.918944388944389}\n",
      "{'accuracy': 0.9015306122448979, 'precision': 0.8978531384982997, 'recall': 0.935051155740811, 'f1': 0.9152155753850671}\n",
      "{'accuracy': 0.9056122448979591, 'precision': 0.9038301499925525, 'recall': 0.935051155740811, 'f1': 0.9182547337719752}\n",
      "{'accuracy': 0.8932823129251701, 'precision': 0.8868853965628161, 'recall': 0.935051155740811, 'f1': 0.9091448901975218}\n"
     ]
    }
   ],
   "source": [
    "from sklearn.model_selection import KFold\n",
    "\n",
    "X = data.iloc[:,:-1].values\n",
    "y = data.iloc[:,-1].values\n",
    "\n",
    "kf = KFold(n_splits=5, shuffle=True, random_state=6666) # 设置5折交叉验证，打乱数据集，随机种子为6666\n",
    "#当 K=5 时，k-fold 交叉验证会将原始数据集分为 5 个相等的部分，然后将这 5 个部分中的一个部分作为测试集，剩余的 4 个部分作为训练集，这样可以得到 5 组不同的训练集和测试集，从而可以进行 5 次训练和测试。\n",
    "# 在每次训练和测试时，都会选择不同的部分作为测试集，最终将这 5 次训练和测试的结果进行平均，得到一个最终的评估结果。\n",
    "\n",
    "results={}\n",
    "for k in range(1,50):\n",
    "    acc_list = []\n",
    "    pre_list = []\n",
    "    rec_list = []\n",
    "    f1_list = []\n",
    "    for train_index, test_index in kf.split(X):\n",
    "        X_train, X_test = X[train_index], X[test_index]\n",
    "        y_train, y_test = y[train_index], y[test_index]\n",
    "        clf = KNN(k) \n",
    "        clf.fit(X_train, y_train)  # 使用训练集训练模型\n",
    "        prediction = clf.predict(X_test)\n",
    "        precision, recall, accuracy, f1score = evaluate(y_test, np.array(prediction))\n",
    "        pre_list.append(precision)\n",
    "        rec_list.append(recall)\n",
    "        acc_list.append(accuracy)\n",
    "        f1_list.append(f1score)\n",
    "    results[k] = {'accuracy': np.mean(acc_list), 'precision': np.mean(pre_list), 'recall': np.mean(rec_list), 'f1': np.mean(f1_list)}\n",
    "    print(results[k])\n"
   ]
  },
  {
   "attachments": {},
   "cell_type": "markdown",
   "metadata": {},
   "source": [
    "# 可视化"
   ]
  },
  {
   "cell_type": "code",
   "execution_count": 417,
   "metadata": {},
   "outputs": [
    {
     "data": {
      "image/png": "[encoded data removed]",
      "text/plain": [
       "<Figure size 432x288 with 1 Axes>"
      ]
     },
     "metadata": {
      "needs_background": "light"
     },
     "output_type": "display_data"
    }
   ],
   "source": [
    "import matplotlib.pyplot as plt\n",
    "\n",
    "ks = list(results.keys())  # 提取k值列表\n",
    "accuracy = [x['accuracy'] for x in results.values()]  # 提取精确率列表\n",
    "precision = [x['precision'] for x in results.values()]  # 提取准确率列表\n",
    "recall = [x['recall'] for x in results.values()]  # 提取召回率列表\n",
    "f1_score = [x['f1'] for x in results.values()]  # 提取F1分数列表\n",
    "\n",
    "# 绘制折线图\n",
    "plt.plot(ks, accuracy, label='Accuracy')\n",
    "plt.plot(ks, precision, label='Precision')\n",
    "plt.plot(ks, recall, label='Recall')\n",
    "plt.plot(ks, f1_score, label='F1 Score')\n",
    "plt.legend()  # 添加图例\n",
    "plt.xlabel('k')  # 添加x轴标签\n",
    "plt.ylabel('Score')  # 添加y轴标签\n",
    "plt.title('KNN Metrics')  # 添加标题\n",
    "plt.show()  # 显示图形\n",
    "\n"
   ]
  },
  {
   "cell_type": "code",
   "execution_count": null,
   "metadata": {},
   "outputs": [],
   "source": []
  }
 ],
 "metadata": {
  "kernelspec": {
   "display_name": "Python 3",
   "language": "python",
   "name": "python3"
  },
  "language_info": {
   "codemirror_mode": {
    "name": "ipython",
    "version": 3
   },
   "file_extension": ".py",
   "mimetype": "text/x-python",
   "name": "python",
   "nbconvert_exporter": "python",
   "pygments_lexer": "ipython3",
   "version": "3.10.5"
  },
  "orig_nbformat": 4
 },
 "nbformat": 4,
 "nbformat_minor": 2
}
