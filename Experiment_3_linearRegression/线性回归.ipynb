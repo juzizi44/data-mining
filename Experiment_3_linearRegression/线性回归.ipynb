{
 "cells": [
  {
   "cell_type": "markdown",
   "metadata": {
    "collapsed": false
   },
   "source": [
    "# 一元线性回归"
   ]
  },
  {
   "cell_type": "code",
   "execution_count": 3,
   "metadata": {
    "collapsed": false
   },
   "outputs": [
    {
     "data": {
      "image/png": "[encoded data removed]",
      "text/plain": [
       "<Figure size 432x288 with 1 Axes>"
      ]
     },
     "metadata": {
      "needs_background": "light"
     },
     "output_type": "display_data"
    },
    {
     "name": "stdout",
     "output_type": "stream",
     "text": [
      "RMSE: 10.412108425751445\n",
      "R2 score: 0.37038106518427033\n"
     ]
    }
   ],
   "source": [
    "import numpy as np\n",
    "import matplotlib.pyplot as plt\n",
    "\n",
    "# 生成随机数据集\n",
    "def generate_data(num_samples=100, noise=10):\n",
    "    X = np.random.rand(num_samples) * 10\n",
    "    y = 3 * X + noise * np.random.randn(num_samples)\n",
    "    return X, y\n",
    "\n",
    "# 最小二乘法\n",
    "def least_squares(X, y):\n",
    "    X = np.column_stack((np.ones(len(X)), X))\n",
    "    theta = np.linalg.inv(X.T.dot(X)).dot(X.T).dot(y)\n",
    "    return theta\n",
    "\n",
    "# 计算均方根误差（RMSE）和决定系数（R2 score）\n",
    "def evaluate(y_true, y_pred):\n",
    "    rmse = np.sqrt(np.mean((y_true - y_pred) ** 2))\n",
    "    ssr = np.sum((y_pred - y_true.mean()) ** 2)\n",
    "    sst = np.sum((y_true - y_true.mean()) ** 2)\n",
    "    r2 = ssr / sst\n",
    "    return rmse, r2\n",
    "\n",
    "# 生成数据集\n",
    "X, y = generate_data()\n",
    "\n",
    "# 计算回归系数\n",
    "theta = least_squares(X, y)\n",
    "\n",
    "# 画出拟合曲线和数据散点图\n",
    "plt.scatter(X, y, color='blue', label='data')\n",
    "plt.plot(X, np.dot(np.column_stack((np.ones(len(X)), X)), theta), color='red', label='linear regression')\n",
    "plt.legend(loc='best')\n",
    "plt.show()\n",
    "\n",
    "# 计算评价指标\n",
    "y_pred = np.dot(np.column_stack((np.ones(len(X)), X)), theta)\n",
    "rmse, r2 = evaluate(y, y_pred)\n",
    "print(\"RMSE:\", rmse)\n",
    "print(\"R2 score:\", r2)\n"
   ]
  },
  {
   "cell_type": "markdown",
   "metadata": {
    "collapsed": false
   },
   "source": [
    "# 多元线性回归"
   ]
  },
  {
   "cell_type": "code",
   "execution_count": 7,
   "metadata": {},
   "outputs": [
    {
     "name": "stdout",
     "output_type": "stream",
     "text": [
      "RMSE: 4.679191295697282\n",
      "R2 score: 0.740642664109407\n"
     ]
    }
   ],
   "source": [
    "import numpy as np\n",
    "import pandas as pd\n",
    "import matplotlib.pyplot as plt\n",
    "\n",
    "# 加载数据集\n",
    "def load_data():\n",
    "    dataset = pd.read_csv('https://archive.ics.uci.edu/ml/machine-learning-databases/housing/housing.data', header=None, sep='\\s+')\n",
    "    X = dataset.iloc[:, :-1].values\n",
    "    y = dataset.iloc[:, -1].values\n",
    "    return X, y\n",
    "\n",
    "# 数据预处理\n",
    "def preprocess_data(X):\n",
    "    X_mean = np.mean(X, axis=0)\n",
    "    X_std = np.std(X, axis=0)\n",
    "    X_norm = (X - X_mean) / X_std\n",
    "    X_norm = np.column_stack((np.ones(len(X_norm)), X_norm))\n",
    "    return X_norm\n",
    "\n",
    "# 最小二乘法\n",
    "def least_squares(X, y):\n",
    "    X_T_X = np.dot(X.T, X)\n",
    "    det = np.linalg.det(X_T_X) # 行列式\n",
    "    if det == 0:\n",
    "        print(\"The matrix is singular, cannot be inverted\")\n",
    "        return None\n",
    "    else:\n",
    "        theta = np.dot(np.dot(np.linalg.inv(X_T_X), X.T), y)\n",
    "        return theta\n",
    "\n",
    "# 计算均方根误差（RMSE）和决定系数（R2 score）\n",
    "def evaluate(y_true, y_pred):\n",
    "    rmse = np.sqrt(np.mean((y_true - y_pred) ** 2))\n",
    "    ssr = np.sum((y_pred - y_true.mean()) ** 2)\n",
    "    sst = np.sum((y_true - y_true.mean()) ** 2)\n",
    "    r2 = ssr / sst\n",
    "    return rmse, r2\n",
    "\n",
    "# 加载数据集\n",
    "X, y = load_data()\n",
    "\n",
    "# 数据预处理\n",
    "X = preprocess_data(X)\n",
    "\n",
    "# 计算回归系数\n",
    "theta = least_squares(X, y)\n",
    "if theta is None:\n",
    "    exit()\n",
    "\n",
    "# 计算评价指标\n",
    "rmse, r2 = evaluate(y, y_pred)\n",
    "print(\"RMSE:\", rmse)\n",
    "print(\"R2 score:\", r2)\n"
   ]
  },
  {
   "cell_type": "markdown",
   "metadata": {
    "collapsed": false
   },
   "source": [
    "# 岭回归"
   ]
  },
  {
   "cell_type": "code",
   "execution_count": 12,
   "metadata": {
    "collapsed": false
   },
   "outputs": [
    {
     "data": {
      "image/png": "[encoded data removed]",
      "text/plain": [
       "<Figure size 576x432 with 1 Axes>"
      ]
     },
     "metadata": {
      "needs_background": "light"
     },
     "output_type": "display_data"
    }
   ],
   "source": [
    "import numpy as np\n",
    "import pandas as pd\n",
    "import matplotlib.pyplot as plt\n",
    "from sklearn.model_selection import train_test_split\n",
    "from sklearn.metrics import mean_absolute_error, mean_squared_error\n",
    "\n",
    "\n",
    "column_names = ['CRIM', 'ZN', 'INDUS', 'CHAS', 'NOX', 'RM', 'AGE', 'DIS', 'RAD', 'TAX', 'PTRATIO', 'B', 'LSTAT', 'MEDV']\n",
    "data = pd.read_csv('https://archive.ics.uci.edu/ml/machine-learning-databases/housing/housing.data', header=None, sep='\\s+', names=column_names)\n",
    "\n",
    "# 提取2列作为训练集\n",
    "X = data[['RM', 'DIS']].values\n",
    "y = data['MEDV'].values\n",
    "\n",
    "\n",
    "def ridge_regression(X, y, alpha):\n",
    "    \"\"\"\n",
    "    实现Ridge回归模型\n",
    "\n",
    "    参数：\n",
    "        X - 自变量，形状为(n_samples, n_features)\n",
    "        y - 因变量，形状为(n_samples, )\n",
    "        alpha - 正则化系数\n",
    "\n",
    "    返回值：\n",
    "        回归系数，形状为(n_features, )\n",
    "    \"\"\"\n",
    "    n_features = X.shape[1]\n",
    "    A = np.dot(X.T, X) + alpha * np.identity(n_features)\n",
    "    b = np.dot(X.T, y)\n",
    "    return np.linalg.solve(A, b)\n",
    "\n",
    "\n",
    "# 将D2随机划分为训练集和测试集\n",
    "X_train, X_test, y_train, y_test = train_test_split(\n",
    "    X, y, test_size=0.2, random_state=42)\n",
    "# 使用训练集训练Ridge回归模型\n",
    "alpha = 10\n",
    "coef = ridge_regression(X_train, y_train, alpha)\n",
    "\n",
    "# 重复以上步骤5次或以上，获取多组MAE和RMSE值，并绘制条形图\n",
    "n_runs = 10\n",
    "mae_list = []\n",
    "rmse_list = []\n",
    "for i in range(n_runs):\n",
    "    # 将D2随机划分为训练集和测试集\n",
    "    X_train, X_test, y_train, y_test = train_test_split(X, y, test_size=0.2)\n",
    "    # 使用训练集训练Ridge回归模型\n",
    "    coef = ridge_regression(X_train, y_train, alpha)\n",
    "\n",
    "    # 在测试集上进行测试，并计算MAE和RMSE\n",
    "    y_pred = np.dot(X_test, coef)\n",
    "    mae = mean_absolute_error(y_test, y_pred)\n",
    "    rmse = np.sqrt(mean_squared_error(y_test, y_pred))\n",
    "\n",
    "    mae_list.append(mae)\n",
    "    rmse_list.append(rmse)\n",
    "\n",
    "# 将多组MAE和RMSE值绘制成条形图\n",
    "plt.figure(figsize=(8, 6))\n",
    "index = np.arange(n_runs+1)\n",
    "opacity = 0.8\n",
    "\n",
    "# 绘制MAE条形图\n",
    "plt.bar(index, mae_list+[np.mean(mae_list)], alpha=opacity, label='MAE')\n",
    "# 绘制RMSE条形图\n",
    "plt.bar(index, rmse_list+[np.mean(rmse_list)], alpha=opacity,\n",
    "        label='RMSE', bottom=mae_list+[np.mean(mae_list)])\n",
    "\n",
    "# 添加标签和标题\n",
    "plt.xlabel('Run')\n",
    "plt.ylabel('Error')\n",
    "plt.title('MAE and RMSE of Ridge Regression with alpha={}'.format(alpha))\n",
    "plt.xticks(index, ['Run {}'.format(i+1) for i in range(n_runs)]+['Average'])\n",
    "\n",
    "plt.legend()\n",
    "\n",
    "plt.show()\n"
   ]
  },
  {
   "cell_type": "code",
   "execution_count": null,
   "metadata": {},
   "outputs": [],
   "source": []
  }
 ],
 "metadata": {
  "kernelspec": {
   "display_name": "Python 3",
   "language": "python",
   "name": "python3"
  },
  "language_info": {
   "codemirror_mode": {
    "name": "ipython",
    "version": 3
   },
   "file_extension": ".py",
   "mimetype": "text/x-python",
   "name": "python",
   "nbconvert_exporter": "python",
   "pygments_lexer": "ipython3",
   "version": "3.10.5"
  },
  "orig_nbformat": 4
 },
 "nbformat": 4,
 "nbformat_minor": 2
}
