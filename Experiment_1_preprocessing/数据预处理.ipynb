{
 "cells": [
  {
   "cell_type": "markdown",
   "metadata": {
    "collapsed": false
   },
   "source": [
    "# 缺失值填补"
   ]
  },
  {
   "cell_type": "markdown",
   "metadata": {
    "collapsed": false
   },
   "source": [
    "## 1、随机删除iris中的一些属性值（随即删除总量的5%）\n"
   ]
  },
  {
   "cell_type": "code",
   "execution_count": 1,
   "metadata": {
    "collapsed": false
   },
   "outputs": [
    {
     "name": "stdout",
     "output_type": "stream",
     "text": [
      "     sepal length (cm)  sepal width (cm)  petal length (cm)  petal width (cm)\n",
      "0                  5.1               3.5                1.4               0.2\n",
      "1                  4.9               3.0                1.4               0.2\n",
      "2                  4.7               3.2                1.3               0.2\n",
      "3                  4.6               3.1                1.5               0.2\n",
      "4                  5.0               3.6                1.4               0.2\n",
      "..                 ...               ...                ...               ...\n",
      "145                6.7               3.0                5.2               2.3\n",
      "146                6.3               2.5                5.0               1.9\n",
      "147                6.5               3.0                5.2               2.0\n",
      "148                6.2               3.4                5.4               2.3\n",
      "149                5.9               NaN                5.1               1.8\n",
      "\n",
      "[150 rows x 4 columns] sepal length (cm)    7\n",
      "sepal width (cm)     7\n",
      "petal length (cm)    7\n",
      "petal width (cm)     7\n",
      "dtype: int64\n"
     ]
    }
   ],
   "source": [
    "import numpy as np\n",
    "from sklearn.datasets import load_iris\n",
    "import pandas as pd\n",
    "\n",
    "# 加载Iris数据集\n",
    "iris = load_iris()\n",
    "iris_array = iris.data\n",
    "\n",
    "# 设置随机数种子以便复现实验\n",
    "np.random.seed(42)\n",
    "\n",
    "# 获取数据集的形状和大小\n",
    "num_rows, num_cols = iris_array.shape\n",
    "num_values = num_rows * num_cols\n",
    "\n",
    "# 计算每一列要删除的值的数量\n",
    "num_values_to_remove = int(num_values * 0.05/num_cols)\n",
    "\n",
    "\n",
    "# 在每个属性中随机选择要删除的值，并将它们设置为NaN\n",
    "for i in range(num_cols):\n",
    "    col_values = iris_array[:, i]\n",
    "    num_values_in_col = len(col_values)\n",
    "    indices_to_remove = np.random.choice(num_values_in_col, size=num_values_to_remove, replace=False)\n",
    "    col_values[indices_to_remove] = np.nan\n",
    "\n",
    "# 将修改后的数组转换回Pandas数据帧\n",
    "modified_iris_df = pd.DataFrame(iris_array,columns=iris.feature_names)\n",
    "\n",
    "# 打印修改后的数据集\n",
    "print(modified_iris_df,modified_iris_df.isna().sum())\n",
    "\n"
   ]
  },
  {
   "attachments": {},
   "cell_type": "markdown",
   "metadata": {
    "collapsed": false
   },
   "source": [
    "## 2、采用均值、中位数、前值进行缺失值填补(填补后进行z-score标准化)"
   ]
  },
  {
   "cell_type": "markdown",
   "metadata": {
    "collapsed": false
   },
   "source": [
    "- 均值填补"
   ]
  },
  {
   "cell_type": "code",
   "execution_count": 2,
   "metadata": {
    "collapsed": false
   },
   "outputs": [
    {
     "name": "stdout",
     "output_type": "stream",
     "text": [
      "     sepal length (cm)  sepal width (cm)  petal length (cm)  petal width (cm)  \\\n",
      "0            -0.901670          1.028792          -1.368290         -1.300653   \n",
      "1            -1.149868         -0.127790          -1.368290         -1.300653   \n",
      "2            -1.398067          0.334843          -1.426386         -1.300653   \n",
      "3            -1.522166          0.103526          -1.310195         -1.300653   \n",
      "4            -1.025769          1.260108          -1.368290         -1.300653   \n",
      "..                 ...               ...                ...               ...   \n",
      "145           1.083914         -0.127790           0.839337          1.523542   \n",
      "146           0.587518         -1.284372           0.723146          0.985600   \n",
      "147           0.835716         -0.127790           0.839337          1.120085   \n",
      "148           0.463419          0.797475           0.955528          1.523542   \n",
      "149           0.091122          0.000000           0.781242          0.851114   \n",
      "\n",
      "       species  \n",
      "0       setosa  \n",
      "1       setosa  \n",
      "2       setosa  \n",
      "3       setosa  \n",
      "4       setosa  \n",
      "..         ...  \n",
      "145  virginica  \n",
      "146  virginica  \n",
      "147  virginica  \n",
      "148  virginica  \n",
      "149  virginica  \n",
      "\n",
      "[150 rows x 5 columns]\n"
     ]
    }
   ],
   "source": [
    "# 使用每个属性的均值来填补缺失值\n",
    "mean_values = modified_iris_df.mean()\n",
    "iris_df_filled_mean = modified_iris_df.fillna(mean_values)\n",
    "iris_df_filled_mean['species'] = iris.target_names[iris.target]\n",
    "\n",
    "#标准化\n",
    "mean = np.mean(iris_df_filled_mean.iloc[:, 0:4], axis=0)\n",
    "std = np.std(iris_df_filled_mean.iloc[:, 0:4], axis=0)\n",
    "iris_df_filled_mean.iloc[:, 0:4] = (iris_df_filled_mean.iloc[:, 0:4] - mean) / std\n",
    "\n",
    "# 打印填补后的数据集\n",
    "print(iris_df_filled_mean)"
   ]
  },
  {
   "cell_type": "markdown",
   "metadata": {
    "collapsed": false
   },
   "source": [
    "- 中位数填补"
   ]
  },
  {
   "cell_type": "code",
   "execution_count": 3,
   "metadata": {
    "collapsed": false
   },
   "outputs": [
    {
     "name": "stdout",
     "output_type": "stream",
     "text": [
      "     sepal length (cm)  sepal width (cm)  petal length (cm)  petal width (cm)  \\\n",
      "0            -0.900110          1.034380          -1.381466         -1.308063   \n",
      "1            -1.148302         -0.121782          -1.381466         -1.308063   \n",
      "2            -1.396494          0.340682          -1.439381         -1.308063   \n",
      "3            -1.520590          0.109450          -1.323551         -1.308063   \n",
      "4            -1.024206          1.265612          -1.381466         -1.308063   \n",
      "..                 ...               ...                ...               ...   \n",
      "145           1.085426         -0.121782           0.819304          1.514128   \n",
      "146           0.589042         -1.277945           0.703474          0.976568   \n",
      "147           0.837234         -0.121782           0.819304          1.110958   \n",
      "148           0.464946          0.803147           0.935134          1.514128   \n",
      "149           0.092658         -0.121782           0.761389          0.842178   \n",
      "\n",
      "       species  \n",
      "0       setosa  \n",
      "1       setosa  \n",
      "2       setosa  \n",
      "3       setosa  \n",
      "4       setosa  \n",
      "..         ...  \n",
      "145  virginica  \n",
      "146  virginica  \n",
      "147  virginica  \n",
      "148  virginica  \n",
      "149  virginica  \n",
      "\n",
      "[150 rows x 5 columns]\n"
     ]
    }
   ],
   "source": [
    "# 使用每个属性的中位数来填补缺失值\n",
    "median_values = modified_iris_df.median()\n",
    "iris_df_filled_median = modified_iris_df.fillna(median_values)\n",
    "iris_df_filled_median['species'] = iris.target_names[iris.target]\n",
    "\n",
    "# 标准化\n",
    "mean = np.mean(iris_df_filled_median.iloc[:, 0:4], axis=0)\n",
    "std = np.std(iris_df_filled_median.iloc[:, 0:4], axis=0)\n",
    "iris_df_filled_median.iloc[:, 0:4] = (iris_df_filled_median.iloc[:, 0:4] - mean) / std\n",
    "\n",
    "# 打印填补后的数据集\n",
    "print(iris_df_filled_median)"
   ]
  },
  {
   "cell_type": "markdown",
   "metadata": {
    "collapsed": false
   },
   "source": [
    "- 前值填补"
   ]
  },
  {
   "cell_type": "code",
   "execution_count": 4,
   "metadata": {
    "collapsed": false
   },
   "outputs": [
    {
     "name": "stdout",
     "output_type": "stream",
     "text": [
      "     sepal length (cm)  sepal width (cm)  petal length (cm)  petal width (cm)  \\\n",
      "0            -0.892250          0.963467          -1.340254         -1.307945   \n",
      "1            -1.132317         -0.149939          -1.340254         -1.307945   \n",
      "2            -1.372384          0.295424          -1.397448         -1.307945   \n",
      "3            -1.492418          0.072743          -1.283060         -1.307945   \n",
      "4            -1.012283          1.186148          -1.340254         -1.307945   \n",
      "..                 ...               ...                ...               ...   \n",
      "145           1.028288         -0.149939           0.833131          1.409751   \n",
      "146           0.548154         -1.263344           0.718742          0.892094   \n",
      "147           0.788221         -0.149939           0.833131          1.021508   \n",
      "148           0.428120          0.740786           0.947520          1.409751   \n",
      "149           0.068019          0.740786           0.775937          0.762680   \n",
      "\n",
      "       species  \n",
      "0       setosa  \n",
      "1       setosa  \n",
      "2       setosa  \n",
      "3       setosa  \n",
      "4       setosa  \n",
      "..         ...  \n",
      "145  virginica  \n",
      "146  virginica  \n",
      "147  virginica  \n",
      "148  virginica  \n",
      "149  virginica  \n",
      "\n",
      "[150 rows x 5 columns]\n"
     ]
    }
   ],
   "source": [
    "# 使用每个属性的前一个值来填补缺失值\n",
    "iris_df_filled_ffill = modified_iris_df.fillna(method='ffill')\n",
    "iris_df_filled_ffill['species'] = iris.target_names[iris.target]\n",
    "\n",
    "# 标准化\n",
    "mean = np.mean(iris_df_filled_ffill.iloc[:, 0:4], axis=0)\n",
    "std = np.std(iris_df_filled_ffill.iloc[:, 0:4], axis=0)\n",
    "iris_df_filled_ffill.iloc[:, 0:4] = (iris_df_filled_ffill.iloc[:, 0:4] - mean) / std\n",
    "# 打印填补后的数据集\n",
    "print(iris_df_filled_ffill)"
   ]
  },
  {
   "cell_type": "markdown",
   "metadata": {
    "collapsed": false
   },
   "source": [
    "# 结果比较实验"
   ]
  },
  {
   "cell_type": "markdown",
   "metadata": {
    "collapsed": false
   },
   "source": [
    "## 随机选择80%数据训练，20%数据测试，设置种子可重复实验"
   ]
  },
  {
   "cell_type": "code",
   "execution_count": 5,
   "metadata": {
    "collapsed": false
   },
   "outputs": [],
   "source": [
    "from sklearn.model_selection import train_test_split\n",
    "# Load the datasets\n",
    "iris = load_iris()\n",
    "iris_df = pd.DataFrame(data=iris.data, columns=iris.feature_names)\n",
    "iris_df['species'] = iris.target_names[iris.target]\n",
    "\n",
    "def prepare_data(X):\n",
    "    np.random.seed(42)\n",
    "    X_train,X_test,y_train,y_test = train_test_split(\n",
    "    X.drop('species', axis=1), iris_df['species'], test_size=0.2, random_state=123)\n",
    "    return X_train,X_test,y_train,y_test\n",
    "\n",
    "X_list = [iris_df,iris_df_filled_mean,iris_df_filled_median,iris_df_filled_ffill]"
   ]
  },
  {
   "attachments": {},
   "cell_type": "markdown",
   "metadata": {
    "collapsed": false
   },
   "source": [
    "## 使用KNN分类测试比较有缺失值和无缺失值的数据训练和测试结果，测试结果需要列表比较 accuracy，precision，recall和f1-score\n"
   ]
  },
  {
   "cell_type": "code",
   "execution_count": 6,
   "metadata": {},
   "outputs": [
    {
     "name": "stdout",
     "output_type": "stream",
     "text": [
      "                 Dataset  Accuracy Precision    Recall  F1_score\n",
      "0                iris_df       0.9   0.90619       0.9  0.901465\n",
      "1    iris_df_filled_mean  0.833333  0.865278  0.833333  0.836842\n",
      "2  iris_df_filled_median  0.833333  0.865278  0.833333  0.836842\n",
      "3   iris_df_filled_ffill       0.9   0.90619       0.9  0.901465\n"
     ]
    }
   ],
   "source": [
    "from sklearn.neighbors import KNeighborsClassifier\n",
    "from sklearn.metrics import accuracy_score, precision_score, recall_score, f1_score\n",
    "\n",
    "result = pd.DataFrame(columns=['Dataset','Accuracy','Precision','Recall','F1_score'])\n",
    "result['Dataset']= ['iris_df', 'iris_df_filled_mean','iris_df_filled_median','iris_df_filled_ffill']\n",
    "i = 0\n",
    "for X in X_list:\n",
    "    X_train,X_test,y_train,y_test = prepare_data(X)\n",
    "\n",
    "    # Train a KNN classifier on the training set of each dataset\n",
    "    k = 6\n",
    "    iris_knn = KNeighborsClassifier(n_neighbors=k)\n",
    "    iris_knn.fit(X_train, y_train)\n",
    "    iris_y_pred = iris_knn.predict(X_test)\n",
    "\n",
    "    # Calculate the evaluation metrics\n",
    "    result.Accuracy[i] = accuracy_score(y_test, iris_y_pred)\n",
    "    result.Precision[i] = precision_score(y_test, iris_y_pred, average='weighted')\n",
    "    result.Recall[i] = recall_score(y_test, iris_y_pred, average='weighted')\n",
    "    result.F1_score[i]= f1_score(y_test, iris_y_pred, average='weighted')    \n",
    "    i=i+1\n",
    "    \n",
    "print(result)"
   ]
  },
  {
   "cell_type": "code",
   "execution_count": null,
   "metadata": {},
   "outputs": [],
   "source": []
  }
 ],
 "metadata": {
  "kernelspec": {
   "display_name": "Python 3",
   "language": "python",
   "name": "python3"
  },
  "language_info": {
   "codemirror_mode": {
    "name": "ipython",
    "version": 3
   },
   "file_extension": ".py",
   "mimetype": "text/x-python",
   "name": "python",
   "nbconvert_exporter": "python",
   "pygments_lexer": "ipython3",
   "version": "3.10.5"
  }
 },
 "nbformat": 4,
 "nbformat_minor": 0
}
