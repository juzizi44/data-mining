{
 "cells": [
  {
   "attachments": {},
   "cell_type": "markdown",
   "metadata": {
    "collapsed": false
   },
   "source": [
    "前面训练过程耗时比较长，建议老师直接加载训练好的模型进行测试，也就是运行第6和第7部分\n",
    "如果不使用训练好的ada_best.pkl，那么请运行第1、2、4、7部分。"
   ]
  },
  {
   "attachments": {},
   "cell_type": "markdown",
   "metadata": {
    "collapsed": false
   },
   "source": [
    "# 1、导入所需要的库"
   ]
  },
  {
   "cell_type": "code",
   "execution_count": 1,
   "metadata": {
    "collapsed": true
   },
   "outputs": [],
   "source": [
    "# 导入所需的库\n",
    "import pandas as pd\n",
    "import numpy as np\n",
    "from sklearn.ensemble import AdaBoostClassifier\n",
    "from sklearn.metrics import accuracy_score, precision_score, recall_score, roc_auc_score\n",
    "from sklearn.model_selection import GridSearchCV\n",
    "from sklearn.model_selection import train_test_split\n",
    "from sklearn.tree import DecisionTreeClassifier"
   ]
  },
  {
   "attachments": {},
   "cell_type": "markdown",
   "metadata": {
    "collapsed": false
   },
   "source": [
    "# 2、数据预处理"
   ]
  },
  {
   "cell_type": "code",
   "execution_count": 2,
   "metadata": {
    "collapsed": false
   },
   "outputs": [],
   "source": [
    "data = pd.read_csv('./train.csv') # 读取数据集\n",
    "data = data.drop(data.columns[data.nunique() == 1], axis=1) # 删除重复的列\n",
    "data = data.drop(data.columns[data.columns.str.contains('home')], axis=1)  # 删除包含图片地址的列\n",
    "data = data.drop(data.columns[2], axis=1) # 删除全是字符串的一列\n",
    "data = data.drop(data.columns[data.columns.str.contains('\\(')], axis=1)  # 暂时删掉元组类型的数据\n",
    "data.columns = [np.arange(0,98)]\n",
    "data.astype(float)\n",
    "\n",
    "# 分配自变量和因变量\n",
    "X = data.iloc[:,:-1]\n",
    "y = data.iloc[:,-1]\n",
    "\n",
    "# 训练集和测试集划分\n",
    "X_train, X_test, y_train, y_test = train_test_split(X, y, test_size=0.2, random_state=42)"
   ]
  },
  {
   "attachments": {},
   "cell_type": "markdown",
   "metadata": {
    "collapsed": false
   },
   "source": [
    "# 3、参数调优（这一步耗时较长）--参数调优的结果是n_estimators=500，learning_rate=0.9时模型最好\n",
    "- 使用adaboost集成学习\n",
    "- 学习率通过learning_rate缩小每个分类器的贡献程度。learning_rate和n_estimators之间存在权衡关系。\n",
    "- n_estimators是终止推进的估计器的最大数目。如果完全拟合，学习过程就会提前停止。"
   ]
  },
  {
   "cell_type": "code",
   "execution_count": 3,
   "metadata": {
    "collapsed": false,
    "pycharm": {
     "is_executing": true
    }
   },
   "outputs": [
    {
     "name": "stdout",
     "output_type": "stream",
     "text": [
      "Fitting 5 folds for each of 80 candidates, totalling 400 fits\n",
      "Best parameters: {'learning_rate': 0.9, 'n_estimators': 500}\n"
     ]
    }
   ],
   "source": [
    "# 构建AdaBoost模型 集成学习\n",
    "ada = AdaBoostClassifier(base_estimator=DecisionTreeClassifier(max_depth=8), random_state=42) \n",
    "\n",
    "# 定义要调参的参数\n",
    "param_grid = {\n",
    "    'n_estimators': [10,50,100,150,200,300,400,500],\n",
    "    'learning_rate': [0.1,0.2,0.3,0.4,0.5,0.6,0.7,0.8,0.9,1.0]\n",
    "}\n",
    "\n",
    "# 使用GridSearchCV进行参数调优\n",
    "grid_search = GridSearchCV(estimator=ada, param_grid=param_grid, cv=5, scoring='roc_auc',n_jobs=-1,verbose=2)\n",
    "grid_search.fit(X_train, y_train)\n",
    "\n",
    "# 输出最优参数\n",
    "print(\"Best parameters:\", grid_search.best_params_)"
   ]
  },
  {
   "attachments": {},
   "cell_type": "markdown",
   "metadata": {
    "collapsed": false
   },
   "source": [
    "# 4、使用最优参数构建模型"
   ]
  },
  {
   "cell_type": "code",
   "execution_count": 3,
   "metadata": {
    "collapsed": false
   },
   "outputs": [
    {
     "name": "stdout",
     "output_type": "stream",
     "text": [
      "Accuracy: 0.92625\n",
      "Precision: 0.9367311072056239\n",
      "Recall: 0.9586330935251799\n",
      "AUC: 0.9055460549593113\n"
     ]
    }
   ],
   "source": [
    "# 使用最优参数构建模型\n",
    "ada_best = AdaBoostClassifier(base_estimator=DecisionTreeClassifier(max_depth=8),\n",
    "                              n_estimators=500,\n",
    "                              learning_rate=0.9,\n",
    "                              random_state=42)\n",
    "\n",
    "# 训练模型并预测\n",
    "ada_best.fit(X_train, y_train)\n",
    "y_pred = ada_best.predict(X_test)\n",
    "\n",
    "\n",
    "# 计算分类指标\n",
    "accuracy = accuracy_score(y_test, y_pred)\n",
    "precision = precision_score(y_test, y_pred)\n",
    "recall = recall_score(y_test, y_pred)\n",
    "# 计算AUC\n",
    "auc = roc_auc_score(y_test, y_pred)\n",
    "\n",
    "print(\"Accuracy:\", accuracy)\n",
    "print(\"Precision:\", precision)\n",
    "print(\"Recall:\", recall)\n",
    "print(\"AUC:\", auc)"
   ]
  },
  {
   "attachments": {},
   "cell_type": "markdown",
   "metadata": {
    "collapsed": false
   },
   "source": [
    "# 5、保存训练好的ada_best模型"
   ]
  },
  {
   "cell_type": "code",
   "execution_count": 4,
   "metadata": {
    "collapsed": false
   },
   "outputs": [],
   "source": [
    "import pickle\n",
    "\n",
    "# 保存模型\n",
    "with open('ada_best.pkl', 'wb') as f:\n",
    "    pickle.dump(ada_best, f)"
   ]
  },
  {
   "attachments": {},
   "cell_type": "markdown",
   "metadata": {
    "collapsed": false
   },
   "source": [
    "# 6、加载ada_best模型"
   ]
  },
  {
   "cell_type": "code",
   "execution_count": 3,
   "metadata": {
    "collapsed": false
   },
   "outputs": [],
   "source": [
    "import pickle\n",
    "# 加载模型\n",
    "with open('ada_best.pkl', 'rb') as f:\n",
    "    ada_best = pickle.load(f)\n",
    "\n"
   ]
  },
  {
   "attachments": {},
   "cell_type": "markdown",
   "metadata": {
    "collapsed": false
   },
   "source": [
    "# 7、测试\n",
    "- 老师只需更改 path的值即可"
   ]
  },
  {
   "cell_type": "code",
   "execution_count": 4,
   "metadata": {
    "collapsed": false
   },
   "outputs": [
    {
     "name": "stdout",
     "output_type": "stream",
     "text": [
      "Accuracy: 0.9852426213106553\n",
      "Precision: 0.9867011451791651\n",
      "Recall: 0.9914625092798812\n",
      "AUC: 0.9819275736583455\n"
     ]
    }
   ],
   "source": [
    "import pandas as pd\n",
    "import numpy as np\n",
    "from sklearn.metrics import accuracy_score, precision_score, recall_score, roc_auc_score\n",
    "def test_data(path):\n",
    "    data = pd.read_csv(path) # 读取数据集\n",
    "    data = data.drop(data.columns[data.nunique() == 1], axis=1) # 删除重复的列\n",
    "    data = data.drop(data.columns[data.columns.str.contains('home')], axis=1)  # 删除包含图片地址的列\n",
    "    data = data.drop(data.columns[2], axis=1) # 删除全是字符串的一列\n",
    "    data = data.drop(data.columns[data.columns.str.contains('\\(')], axis=1)  # 暂时删掉元组类型的数据\n",
    "    data.columns = [np.arange(0,98)]\n",
    "    data.astype(float)\n",
    "    X = data.iloc[:,:-1]\n",
    "    y = data.iloc[:,-1]\n",
    "    return X,y\n",
    "\n",
    "path='train.csv' # 请自行更改\n",
    "newdata,newtarget = test_data(path)\n",
    "new_pred = ada_best.predict(newdata)\n",
    "\n",
    "\n",
    "\n",
    "# 计算分类指标\n",
    "accuracy = accuracy_score(newtarget, new_pred)\n",
    "precision = precision_score(newtarget, new_pred)\n",
    "recall = recall_score(newtarget, new_pred)\n",
    "# 计算AUC\n",
    "auc = roc_auc_score(newtarget, new_pred)\n",
    "\n",
    "print(\"Accuracy:\", accuracy)\n",
    "print(\"Precision:\", precision)\n",
    "print(\"Recall:\", recall)\n",
    "print(\"AUC:\", auc)"
   ]
  },
  {
   "cell_type": "code",
   "execution_count": null,
   "metadata": {},
   "outputs": [],
   "source": []
  }
 ],
 "metadata": {
  "kernelspec": {
   "display_name": "Python 3",
   "language": "python",
   "name": "python3"
  },
  "language_info": {
   "codemirror_mode": {
    "name": "ipython",
    "version": 3
   },
   "file_extension": ".py",
   "mimetype": "text/x-python",
   "name": "python",
   "nbconvert_exporter": "python",
   "pygments_lexer": "ipython3",
   "version": "3.10.5"
  }
 },
 "nbformat": 4,
 "nbformat_minor": 0
}
